{
  "nbformat": 4,
  "nbformat_minor": 0,
  "metadata": {
    "colab": {
      "provenance": []
    },
    "kernelspec": {
      "name": "python3",
      "display_name": "Python 3"
    },
    "language_info": {
      "name": "python"
    }
  },
  "cells": [
    {
      "cell_type": "markdown",
      "source": [
        "## About this notebook\n",
        "\n",
        "This notebook is designed for you to follow the instructions and learn more about how to use Colab's slideshow view of a notebook!\n",
        "\n",
        "[![Open In Colab](https://colab.research.google.com/assets/colab-badge.svg)](https://colab.research.google.com/github/googlecolab/colabtools/blob/main/notebooks/How_to_Use_Slideshow_Mode.ipynb#slideshowMode=true)\n",
        "\n",
        "## What is slideshow view?\n",
        "We break up the notebook into slides that you can flip through. Generally each cell is its own slide, with one special exception discussed later in this notebook.\n",
        "\n",
        "## Starting a slideshow\n",
        "You can start a slideshow by either:\n",
        "- from the notebook the header: **View** \u003e **Start slideshow from beginning**\n",
        "- from the command palette (`Ctrl` + `Shift` + `P`) and search for **Start notebook slideshow from beginning**\n",
        "- use the shortcut `Alt` + `Shift` + `V`\n",
        "- by adding **#slideshowMode=true** to the end of any Colab notebook URL\n",
        "\n",
        "## Slideshow Mode UI - controls at the bottom\n",
        "Use the controls at the bottom of the window navigate between slides\n",
        "\n",
        "- `|\u003c`: moves to first slide in the slide deck\n",
        "- `\u003c`: moves to the previous slide\n",
        "- `\u003e`: moves to the next slide\n",
        "- `\u003e|`: moves to the final slide in the slide deck\n",
        "\n",
        "Let's navigate to the next slide!\n"
      ],
      "metadata": {
        "id": "y_6ZCZg898ah"
      }
    },
    {
      "cell_type": "markdown",
      "source": [
        "## Slideshow Mode UI - controls at the top\n",
        "- `pencil`: will toggle the markdown editor view for slides made from text cells\n",
        "- `gear`: opens settings for changing the aesthetic look of both the notebook and the slideshow\n",
        "  - **Theme**: light mode, dark mode, or adaptive, which copies the system default\n",
        "  - **Editor colorization**: Changes colorization for primarily code cells and code blocks. Some colorizations will also affect the background color of the notebook, such as `Dark` theme + `Synthwave84` editor colorization.\n",
        "  - **Kitty, Corgi, and Crab modes**: this activates cute pets in the header of the notebook or behind the bottom controls in slideshow mode\n",
        "- `four corners`: enters the slideshow into fullscreen\n",
        "- `x`: closes out of slideshow mode\n",
        "\n",
        "Let's go to the next slide!\n"
      ],
      "metadata": {
        "id": "NDhw2ttKAi9c"
      }
    },
    {
      "cell_type": "markdown",
      "source": [
        "# What to do if you accidentally exit slideshow mode\n",
        "\n",
        "Let's see how to get back to the slide we were on.\n",
        "\n",
        "1. Use the `x` button in the top right or `Escape` to exit slideshow mode.\n",
        "2. This cell should be focused in the notebook view!\n",
        "3. Restart the slideshow by:\n",
        "- using the **View** menu to select **Start slideshow**\n",
        "- using the command palette (`Ctrl` + `Shift` + `P`) to run **Start notebook slideshow**\n",
        "- or using the shortcut `Alt` + `V`\n",
        "4. We are back at our slide!\n",
        "\n",
        "This also works to arbitrarily start a slideshow from anywhere in your notebook by focusing the cell you want to start from."
      ],
      "metadata": {
        "id": "LNADWP_ZROgE"
      }
    },
    {
      "cell_type": "markdown",
      "source": [
        "# Code cells in presentation mode\n",
        "\n",
        "So far we have only seen text cell slides, but code cells are also shown as slides and are executable in slideshow mode"
      ],
      "metadata": {
        "id": "YNergqj4NCC3"
      }
    },
    {
      "cell_type": "code",
      "source": [
        "# @title Hello World Example\n",
        "print(\"Hello World\")"
      ],
      "metadata": {
        "colab": {
          "base_uri": "https://localhost:8080/"
        },
        "id": "JhfKwreWAtJx",
        "outputId": "154c7d68-b5e9-4a98-ccb9-66d513f56013"
      },
      "execution_count": null,
      "outputs": [
        {
          "output_type": "stream",
          "name": "stdout",
          "text": [
            "Hello World\n"
          ]
        }
      ]
    },
    {
      "cell_type": "code",
      "source": [
        "# @title A More Interesting Output\n",
        "import numpy as np\n",
        "import IPython.display as display\n",
        "from matplotlib import pyplot as plt\n",
        "import io\n",
        "import base64\n",
        "\n",
        "ys = 200 + np.random.randn(100)\n",
        "x = [x for x in range(len(ys))]\n",
        "\n",
        "fig = plt.figure(figsize=(4, 3), facecolor='w')\n",
        "plt.plot(x, ys, '-')\n",
        "plt.fill_between(x, ys, 195, where=(ys \u003e 195), facecolor='g', alpha=0.6)\n",
        "plt.title(\"Sample Visualization\", fontsize=10)\n",
        "\n",
        "data = io.BytesIO()\n",
        "plt.savefig(data)\n",
        "image = F\"data:image/png;base64,{base64.b64encode(data.getvalue()).decode()}\"\n",
        "alt = \"Sample Visualization\"\n",
        "display.display(display.Markdown(F\"\"\"![{alt}]({image})\"\"\"))\n",
        "plt.close(fig)"
      ],
      "metadata": {
        "colab": {
          "base_uri": "https://localhost:8080/",
          "height": 333
        },
        "id": "xeXJgLhQPykE",
        "outputId": "52ee4cb3-f384-4430-d4fd-27360659dfe7"
      },
      "execution_count": null,
      "outputs": [
        {
          "output_type": "display_data",
          "data": {
            "text/plain": [
              "\u003cIPython.core.display.Markdown object\u003e"
            ],
            "text/markdown": "![Sample Visualization](data:image/png;base64,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)"
          },
          "metadata": {}
        }
      ]
    },
    {
      "cell_type": "markdown",
      "source": [
        "## Special Case: a collapsible section that is one text cell + one code cell\n",
        "\n",
        "This is the special case mentioned on the first slide. If you use Colab's collapsible section feature to create a hierarchy to your cells and you have a section that only consists of a text cell explaining a concept and a code cell demonstrating the concept, they are grouped together into a single slide.\n",
        "Let's consider some example slides that could be included in an Intro to Python course where the students are learning about lists.\n",
        "\n",
        "---\n",
        "\n",
        "## Accessing an element\n",
        "\n",
        "Each item in a list has a particular position, or **index**. In most programming languages, lists are **zero-indexed**.\n",
        "\n",
        "This means that the first element in a list has index 0, the second has index 1, the third has index 2, etc.\n",
        "\n",
        "To access a particular element in a list, use its index:"
      ],
      "metadata": {
        "id": "hBOQF_izXvID"
      }
    },
    {
      "cell_type": "code",
      "source": [
        "students = ['Mikayla', 'Julianne', 'Golnar']\n",
        "\n",
        "# This prints 'Mikayla'\n",
        "print(students[0])\n",
        "\n",
        "# This prints 'Julianne'\n",
        "print(students[1])\n",
        "\n",
        "# This prints 'Golnar'\n",
        "print(students[2])"
      ],
      "metadata": {
        "colab": {
          "base_uri": "https://localhost:8080/"
        },
        "id": "d_ndTsxWYNKQ",
        "outputId": "78df0422-f4cf-425f-e229-73a8756b3ec0"
      },
      "execution_count": null,
      "outputs": [
        {
          "output_type": "stream",
          "name": "stdout",
          "text": [
            "Mikayla\n",
            "Julianne\n",
            "Golnar\n"
          ]
        }
      ]
    },
    {
      "cell_type": "markdown",
      "source": [
        "This is another example slide that could be included in an Intro to Python course where the students are learning about lists.\n",
        "\n",
        "---\n",
        "\n",
        "## IndexError: list index out of range\n",
        "**Recall:**\n",
        "\n",
        "\n",
        "*   Lists are zero-indexed\n",
        "*   The bounds of a list index are 0 to `list size - 1`\n",
        "\n",
        "consider our list:\n",
        "```python\n",
        "students = ['Mikayla', 'Julianne', 'Golnar']\n",
        "```\n",
        "\n",
        "What happens if we try to access an item at an index that is not within the bounds of the list?"
      ],
      "metadata": {
        "id": "H7O5eALwNb6o"
      }
    },
    {
      "cell_type": "code",
      "execution_count": null,
      "metadata": {
        "colab": {
          "base_uri": "https://localhost:8080/",
          "height": 176
        },
        "id": "_eJzZ3k093uj",
        "outputId": "58321fa2-5a44-4a12-9844-51115f0f339a"
      },
      "outputs": [
        {
          "output_type": "error",
          "ename": "IndexError",
          "evalue": "list index out of range",
          "traceback": [
            "\u001b[0;31m---------------------------------------------------------------------------\u001b[0m",
            "\u001b[0;31mIndexError\u001b[0m                                Traceback (most recent call last)",
            "\u001b[0;32m/tmp/ipython-input-3104921058.py\u001b[0m in \u001b[0;36m\u003ccell line: 0\u003e\u001b[0;34m()\u001b[0m\n\u001b[1;32m      1\u001b[0m \u001b[0mstudents\u001b[0m \u001b[0;34m=\u001b[0m \u001b[0;34m[\u001b[0m\u001b[0;34m'Mikayla'\u001b[0m\u001b[0;34m,\u001b[0m \u001b[0;34m'Julianne'\u001b[0m\u001b[0;34m,\u001b[0m \u001b[0;34m'Golnar'\u001b[0m\u001b[0;34m]\u001b[0m\u001b[0;34m\u001b[0m\u001b[0;34m\u001b[0m\u001b[0m\n\u001b[1;32m      2\u001b[0m \u001b[0mindex\u001b[0m \u001b[0;34m=\u001b[0m \u001b[0;36m3\u001b[0m\u001b[0;34m\u001b[0m\u001b[0;34m\u001b[0m\u001b[0m\n\u001b[0;32m----\u003e 3\u001b[0;31m \u001b[0mprint\u001b[0m\u001b[0;34m(\u001b[0m\u001b[0mstudents\u001b[0m\u001b[0;34m[\u001b[0m\u001b[0mindex\u001b[0m\u001b[0;34m]\u001b[0m\u001b[0;34m)\u001b[0m\u001b[0;34m\u001b[0m\u001b[0;34m\u001b[0m\u001b[0m\n\u001b[0m",
            "\u001b[0;31mIndexError\u001b[0m: list index out of range"
          ]
        }
      ],
      "source": [
        "students = ['Mikayla', 'Julianne', 'Golnar']\n",
        "print(students[3])"
      ]
    },
    {
      "cell_type": "markdown",
      "source": [
        "# Slide Titles\n",
        "\n",
        "At the top left, you will see that we have the title of this notebook. The notebook title is the default title we use. If you use Colab's collapsible section feature to create a hierarchy to your cells, the slide title will be the header of the parent section.\n",
        "\n",
        "Let's look at an example starting with the next slide."
      ],
      "metadata": {
        "id": "c_Hrwk9jFJki"
      }
    },
    {
      "cell_type": "markdown",
      "source": [
        "# H1 header - a top level idea\n",
        "\n",
        "This is a text cell that starts with an h1 header on the first line. The title is still the notebook title because an h1 header is considered the top of the hierarchy. This creates the beginning of our collapsible section!"
      ],
      "metadata": {
        "id": "nkmUVIbfJN9w"
      }
    },
    {
      "cell_type": "markdown",
      "source": [
        "## H2 header - a subsection\n",
        "\n",
        "This text cell start with an h2 header on the first line. This nestles under our h1 header in the notebook Table of Contents, and that hierarchy is preserved here. The slide title matches our parent header."
      ],
      "metadata": {
        "id": "x6em6XezJRqI"
      }
    },
    {
      "cell_type": "markdown",
      "source": [
        "### H3 header - further into the weeds\n",
        "\n",
        "As you can see, as you go down the header hierarchy, we can see the header from the previous level as the title."
      ],
      "metadata": {
        "id": "Vzxmj3a9KFEU"
      }
    },
    {
      "cell_type": "markdown",
      "source": [
        "## another H2 header - another subsection\n",
        "\n",
        "and you can go back up the hierarchy"
      ],
      "metadata": {
        "id": "bjUB4cJgK93C"
      }
    },
    {
      "cell_type": "markdown",
      "source": [
        "Text cells with no header get folded into the last section defined. This can be useful for formatting if you want to have your section title stand on its own and then have the content on the next slide. The next two slides demonstrate what that looks like."
      ],
      "metadata": {
        "id": "3zkCMCEoL2eI"
      }
    },
    {
      "cell_type": "markdown",
      "source": [
        "# An exciting title for the section"
      ],
      "metadata": {
        "id": "j4-ODCchMFxh"
      }
    },
    {
      "cell_type": "markdown",
      "source": [
        "Some exciting content that is elaborated on.\n",
        "\n",
        "---\n",
        "\"Lorem ipsum dolor sit amet, consectetur adipiscing elit, sed do eiusmod tempor incididunt ut labore et dolore magna aliqua. Ut enim ad minim veniam, quis nostrud exercitation ullamco laboris nisi ut aliquip ex ea commodo consequat. Duis aute irure dolor in reprehenderit in voluptate velit esse cillum dolore eu fugiat nulla pariatur. Excepteur sint occaecat cupidatat non proident, sunt in culpa qui officia deserunt mollit anim id est laborum.\""
      ],
      "metadata": {
        "id": "zen9iTbGMTCr"
      }
    },
    {
      "cell_type": "markdown",
      "source": [
        "# That's all for now!\n",
        "\n",
        "Thanks for using Colab! We hope you learned what you need to know to make beautiful slideshows out of your notebooks!\n",
        "\n",
        "Please let us know if there are ways we can improve by using the links in the `Help` menu to `Report a bug` or `Send feedback`"
      ],
      "metadata": {
        "id": "v7qshjsBGlHg"
      }
    }
  ]
}
